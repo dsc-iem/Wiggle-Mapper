{
 "cells": [
  {
   "cell_type": "code",
   "execution_count": 1,
   "id": "879d9b02",
   "metadata": {},
   "outputs": [],
   "source": [
    "# import required libraries\n",
    "import pandas as pd    # Read CSV data from Wigle Wifi Capture\n",
    "import folium          # Mapping Library"
   ]
  },
  {
   "cell_type": "code",
   "execution_count": 2,
   "id": "8190cfba",
   "metadata": {},
   "outputs": [],
   "source": [
    "# import CSV file\n",
    "df = pd.read_csv('./dataset/sample.csv', delimiter = ',', encoding='latin-1', header=1)"
   ]
  },
  {
   "cell_type": "code",
   "execution_count": 3,
   "id": "03d664f5",
   "metadata": {},
   "outputs": [
    {
     "data": {
      "text/html": [
       "<div>\n",
       "<style scoped>\n",
       "    .dataframe tbody tr th:only-of-type {\n",
       "        vertical-align: middle;\n",
       "    }\n",
       "\n",
       "    .dataframe tbody tr th {\n",
       "        vertical-align: top;\n",
       "    }\n",
       "\n",
       "    .dataframe thead th {\n",
       "        text-align: right;\n",
       "    }\n",
       "</style>\n",
       "<table border=\"1\" class=\"dataframe\">\n",
       "  <thead>\n",
       "    <tr style=\"text-align: right;\">\n",
       "      <th></th>\n",
       "      <th>MAC</th>\n",
       "      <th>SSID</th>\n",
       "      <th>AuthMode</th>\n",
       "      <th>FirstSeen</th>\n",
       "      <th>Channel</th>\n",
       "      <th>RSSI</th>\n",
       "      <th>CurrentLatitude</th>\n",
       "      <th>CurrentLongitude</th>\n",
       "      <th>AltitudeMeters</th>\n",
       "      <th>AccuracyMeters</th>\n",
       "      <th>Type</th>\n",
       "    </tr>\n",
       "  </thead>\n",
       "  <tbody>\n",
       "    <tr>\n",
       "      <th>46</th>\n",
       "      <td>c0:25:06:0e:bd:f8</td>\n",
       "      <td>FRITZ!Box Fon WLAN 7112</td>\n",
       "      <td>[WPA-PSK-TKIP][WPA2-PSK-CCMP]</td>\n",
       "      <td>2011-09-16 17:24:05</td>\n",
       "      <td>11</td>\n",
       "      <td>-99</td>\n",
       "      <td>49.425044</td>\n",
       "      <td>11.065400</td>\n",
       "      <td>362</td>\n",
       "      <td>9.487171</td>\n",
       "      <td>WIFI</td>\n",
       "    </tr>\n",
       "    <tr>\n",
       "      <th>20</th>\n",
       "      <td>14:d6:4d:ff:79:94</td>\n",
       "      <td>dlink</td>\n",
       "      <td>[WPS][WEP]</td>\n",
       "      <td>2011-09-16 17:23:29</td>\n",
       "      <td>3</td>\n",
       "      <td>-96</td>\n",
       "      <td>49.426128</td>\n",
       "      <td>11.065249</td>\n",
       "      <td>366</td>\n",
       "      <td>4.641000</td>\n",
       "      <td>WIFI</td>\n",
       "    </tr>\n",
       "    <tr>\n",
       "      <th>39</th>\n",
       "      <td>bc:05:43:5b:77:6e</td>\n",
       "      <td>FRITZ!Box  Paula</td>\n",
       "      <td>[WPA-PSK-TKIP][WPA2-PSK-CCMP]</td>\n",
       "      <td>2011-09-16 17:24:04</td>\n",
       "      <td>5</td>\n",
       "      <td>-96</td>\n",
       "      <td>49.425151</td>\n",
       "      <td>11.065335</td>\n",
       "      <td>362</td>\n",
       "      <td>9.487171</td>\n",
       "      <td>WIFI</td>\n",
       "    </tr>\n",
       "    <tr>\n",
       "      <th>64</th>\n",
       "      <td>00:1d:19:cc:53:69</td>\n",
       "      <td>dr-house-net</td>\n",
       "      <td>[WPA-PSK-TKIP+CCMP][WPA2-PSK-TKIP+CCMP-preauth...</td>\n",
       "      <td>2011-09-16 17:24:22</td>\n",
       "      <td>2</td>\n",
       "      <td>-100</td>\n",
       "      <td>49.422963</td>\n",
       "      <td>11.066923</td>\n",
       "      <td>366</td>\n",
       "      <td>4.641000</td>\n",
       "      <td>WIFI</td>\n",
       "    </tr>\n",
       "    <tr>\n",
       "      <th>55</th>\n",
       "      <td>26202_955_236865389</td>\n",
       "      <td>Vodafone.de</td>\n",
       "      <td>HSPA;de</td>\n",
       "      <td>2011-09-16 17:24:14</td>\n",
       "      <td>0</td>\n",
       "      <td>-81</td>\n",
       "      <td>49.423939</td>\n",
       "      <td>11.066108</td>\n",
       "      <td>366</td>\n",
       "      <td>4.641000</td>\n",
       "      <td>GSM</td>\n",
       "    </tr>\n",
       "  </tbody>\n",
       "</table>\n",
       "</div>"
      ],
      "text/plain": [
       "                    MAC                     SSID  \\\n",
       "46    c0:25:06:0e:bd:f8  FRITZ!Box Fon WLAN 7112   \n",
       "20    14:d6:4d:ff:79:94                    dlink   \n",
       "39    bc:05:43:5b:77:6e         FRITZ!Box  Paula   \n",
       "64    00:1d:19:cc:53:69             dr-house-net   \n",
       "55  26202_955_236865389              Vodafone.de   \n",
       "\n",
       "                                             AuthMode            FirstSeen  \\\n",
       "46                      [WPA-PSK-TKIP][WPA2-PSK-CCMP]  2011-09-16 17:24:05   \n",
       "20                                         [WPS][WEP]  2011-09-16 17:23:29   \n",
       "39                      [WPA-PSK-TKIP][WPA2-PSK-CCMP]  2011-09-16 17:24:04   \n",
       "64  [WPA-PSK-TKIP+CCMP][WPA2-PSK-TKIP+CCMP-preauth...  2011-09-16 17:24:22   \n",
       "55                                            HSPA;de  2011-09-16 17:24:14   \n",
       "\n",
       "    Channel  RSSI  CurrentLatitude  CurrentLongitude  AltitudeMeters  \\\n",
       "46       11   -99        49.425044         11.065400             362   \n",
       "20        3   -96        49.426128         11.065249             366   \n",
       "39        5   -96        49.425151         11.065335             362   \n",
       "64        2  -100        49.422963         11.066923             366   \n",
       "55        0   -81        49.423939         11.066108             366   \n",
       "\n",
       "    AccuracyMeters  Type  \n",
       "46        9.487171  WIFI  \n",
       "20        4.641000  WIFI  \n",
       "39        9.487171  WIFI  \n",
       "64        4.641000  WIFI  \n",
       "55        4.641000   GSM  "
      ]
     },
     "execution_count": 3,
     "metadata": {},
     "output_type": "execute_result"
    }
   ],
   "source": [
    "# Verify that files have been successfully imported\n",
    "df.sample(5)"
   ]
  },
  {
   "cell_type": "code",
   "execution_count": 7,
   "id": "1390b082",
   "metadata": {},
   "outputs": [],
   "source": [
    "mymap = folium.Map( location=[ df.CurrentLatitude.mean(), df.CurrentLongitude.mean() ], zoom_start=12)"
   ]
  },
  {
   "cell_type": "code",
   "execution_count": 11,
   "id": "649b6533",
   "metadata": {},
   "outputs": [],
   "source": [
    "for coord in df[['CurrentLatitude','CurrentLongitude', 'SSID', 'Type', 'MAC']].values:\n",
    "    if (coord[3] == 'WIFI'):\n",
    "        folium.CircleMarker(location=[coord[0],coord[1]], radius=1,color='red', popup=[\"SSID:\", coord[2], \"BSSID:\", coord[4]]).add_to(mymap)"
   ]
  },
  {
   "cell_type": "code",
   "execution_count": 12,
   "id": "94293dec",
   "metadata": {},
   "outputs": [],
   "source": [
    "# Save MapData To HTML File:\n",
    "mymap.save('mapdata.html')"
   ]
  },
  {
   "cell_type": "code",
   "execution_count": 13,
   "id": "a928eb17",
   "metadata": {},
   "outputs": [
    {
     "data": {
      "text/html": [
       "<iframe width=\"100%\" height=\"650\" src=\"mapdata.html\"></iframe>\n"
      ],
      "text/plain": [
       "<IPython.core.display.HTML object>"
      ]
     },
     "metadata": {},
     "output_type": "display_data"
    }
   ],
   "source": [
    "%%HTML\n",
    "<iframe width=\"100%\" height=\"650\" src=\"mapdata.html\"></iframe>"
   ]
  }
 ],
 "metadata": {
  "kernelspec": {
   "display_name": "Python 3 (ipykernel)",
   "language": "python",
   "name": "python3"
  },
  "language_info": {
   "codemirror_mode": {
    "name": "ipython",
    "version": 3
   },
   "file_extension": ".py",
   "mimetype": "text/x-python",
   "name": "python",
   "nbconvert_exporter": "python",
   "pygments_lexer": "ipython3",
   "version": "3.9.7"
  }
 },
 "nbformat": 4,
 "nbformat_minor": 5
}
